{
 "cells": [
  {
   "cell_type": "markdown",
   "metadata": {},
   "source": [
    "# Experimental results and consequent changes"
   ]
  },
  {
   "cell_type": "markdown",
   "metadata": {},
   "source": [
    "## Lock linear value:\n",
    "| method | # | means | total mean |\n",
    "|----------|-------------|------|------|\n",
    "|  |  |  |  |\n",
    "| default | 5 | 0.03  0.02  0.01  0.03 | 0.02 |\n",
    "| angular | 3 | 0.01  0.02  0.00  0.13 | 0.04 |\n",
    "|  |  |  |  |\n",
    "##### Conclusion: \n",
    "Removal of linear velocity improves learning.\n",
    "Idea abandoned, changes too large.\n",
    "##### Resulting setting: None"
   ]
  },
  {
   "cell_type": "markdown",
   "metadata": {},
   "source": [
    "## Smaller neural network:\n",
    "| NN size | # | means | total mean |\n",
    "|----------|-------------|------|------|\n",
    "|  |  |  |  |\n",
    "| 512 | 5 | 0.03  0.02  0.01  0.03 | 0.02 |\n",
    "| 64 | 1 | 0.02  0.00  0.00  0.01 | 0.01 |\n",
    "|  |  |  |  |\n",
    "##### Conclusion: \n",
    "Smaller neural network improves simulation speed.\n",
    "Performance still terrible.\n",
    "##### Resulting setting: Neural network size 512 $\\rightarrow$ 64"
   ]
  },
  {
   "cell_type": "markdown",
   "metadata": {},
   "source": [
    "## Stable random move:\n",
    "| method | # | means | total mean |\n",
    "|----------|-------------|------|------|\n",
    "|  |  |  |  |\n",
    "| default | 5 | 0.03  0.02  0.01  0.03 | 0.02 |\n",
    "| rnd=0.1 | 1 | 0.02  0.00  0.01  0.01 | 0.01 |\n",
    "|  |  |  |  |\n",
    "##### Conclusion: \n",
    "Stable random does not improve learning.\n",
    "##### Resulting setting: None"
   ]
  },
  {
   "cell_type": "markdown",
   "metadata": {},
   "source": [
    "## Collision reward -10:\n",
    "| collision reward | # | means | total mean |\n",
    "|----------|-------------|------|------|\n",
    "|  |  |  |  |\n",
    "| -100 | 5 | 0.03  0.02  0.01  0.03 | 0.02 |\n",
    "| -10 | 1 | 0.02  0.03  0.04  0.01 | 0.03 |\n",
    "|  |  |  |  |\n",
    "##### Conclusion: \n",
    "Decrease in collision penalty slightly improved learning and also changed scale of average reward.\n",
    "##### Resulting setting: Collision reward -100 $\\rightarrow$ -10"
   ]
  },
  {
   "cell_type": "markdown",
   "metadata": {},
   "source": [
    "## Stop stable random after 500 eps:\n",
    "| method | # | means | total mean |\n",
    "|----------|-------------|------|------|\n",
    "|  |  |  |  |\n",
    "| default | 1 | 0.02  0.03  0.04  0.01 | 0.03 |\n",
    "| stop=500 | 5 | 0.02  0.05  0.03  0.02 | 0.03 |\n",
    "|  |  |  |  |\n",
    "##### Conclusion: \n",
    "End of random moves (=0.1) after 500 episodes did not improved performance.\n",
    "##### Resulting setting: None"
   ]
  },
  {
   "cell_type": "markdown",
   "metadata": {},
   "source": [
    "## Long, episodes=1000:\n",
    "| method | # | means | total mean |\n",
    "|----------|-------------|------|------|\n",
    "|  |  |  |  |\n",
    "| default | 1 | 0.02  0.03  0.04  0.01 | 0.03 |\n",
    "| long | 1 | 0.01  0.06  0.00  0.01 | 0.02 |\n",
    "|  |  |  |  |\n",
    "##### Conclusion: \n",
    "Larger number of episodes did not improve learning.\n",
    "##### Resulting setting: None"
   ]
  },
  {
   "cell_type": "markdown",
   "metadata": {},
   "source": [
    "## Slow, linear=0.25:\n",
    "| speed | # | means | total mean |\n",
    "|----------|-------------|------|------|\n",
    "|  |  |  |  |\n",
    "| 1.00 | 1 | 0.02  0.03  0.04  0.01 | 0.03 |\n",
    "| 0.25 | 5 | 0.13  0.38  0.29  0.09 | 0.22 |\n",
    "|  |  |  |  |\n",
    "##### Conclusion: \n",
    "Slowing linear velocity greatly increased success probability.\n",
    "##### Resulting setting: \n",
    "* Linear velocity 1.00 $\\rightarrow$ 0.25\n",
    "* Steps 256 $\\rightarrow$ 1024\n"
   ]
  },
  {
   "cell_type": "markdown",
   "metadata": {},
   "source": [
    "## Angular only:\n",
    "| speed | # | means | total mean |\n",
    "|----------|-------------|------|------|\n",
    "|  |  |  |  |\n",
    "| default | 5 | 0.13  0.38  0.29  0.09 | 0.22 |\n",
    "| angular | 1 | 0.00  0.00  0.00  0.01 | 0.00 |\n",
    "|  |  |  |  |\n",
    "##### Conclusion: \n",
    "Not a good idea.\n",
    "##### Resulting setting: None"
   ]
  },
  {
   "cell_type": "markdown",
   "metadata": {},
   "source": [
    "## Angular slowdown:\n",
    "| speed | # | means | total mean |\n",
    "|----------|-------------|------|------|\n",
    "|  |  |  |  |\n",
    "| default | 5 | 0.13  0.38  0.29  0.09 | 0.22 |\n",
    "| angular | 1 | 0.23  0.26  0.00  0.08 | 0.14 |\n",
    "|  |  |  |  |\n",
    "##### Conclusion: \n",
    "Not a good idea.\n",
    "##### Resulting setting: None"
   ]
  },
  {
   "cell_type": "markdown",
   "metadata": {},
   "source": [
    "## FL2\n",
    "Test unknown.\n",
    "\n",
    "Increased learning rate 0.0001 $\\rightarrow$ 0.001"
   ]
  },
  {
   "cell_type": "markdown",
   "metadata": {},
   "source": [
    "## Smaller decay:\n",
    "| decay | # | means | total mean |\n",
    "|----------|-------------|------|------|\n",
    "|  |  |  |  |\n",
    "| 0.99997 | 5 | 0.13  0.38  0.29  0.09 | 0.22 |\n",
    "| 0.99999 | 2 | 0.21  0.57  0.00  0.25 | 0.26 |\n",
    "|  |  |  |  |\n",
    "##### Conclusion: \n",
    "Learning rate is essential setting for learning. Duh.\n",
    "##### Resulting setting: None"
   ]
  },
  {
   "cell_type": "markdown",
   "metadata": {},
   "source": [
    "## Only 5 robots:\n",
    "| robots | # | means | total mean |\n",
    "|----------|-------------|------|------|\n",
    "|  |  |  |  |\n",
    "| 6 | 5 | 0.13  0.38  0.29  0.09 | 0.22 |\n",
    "| 5 | 3 | 0.25  0.46  0.16  0.29 | 0.29 |\n",
    "|  |  |  |  |\n",
    "##### Conclusion: \n",
    "Removal of one failing robot significantly improves FLDDPG.\n",
    "##### Resulting setting: Removal of robot number 1."
   ]
  },
  {
   "cell_type": "markdown",
   "metadata": {},
   "source": [
    "## Short, episodes=125:\n",
    "| episodes | # | means | total mean |\n",
    "|----------|-------------|------|------|\n",
    "|  |  |  |  |\n",
    "| 250 | 3 | 0.25  0.46  0.16  0.29 | 0.29 |\n",
    "| 125 | 13 | 0.28  0.46  0.48  0.41 | 0.41 |\n",
    "|  |  |  |  |\n",
    "##### Conclusion: \n",
    "Significant simulation time decrease.\n",
    "New default testing setting.\n",
    "##### Resulting setting: Episodes 250 $\\rightarrow$ 125"
   ]
  },
  {
   "cell_type": "markdown",
   "metadata": {},
   "source": [
    "## Normalisation:\n",
    "| method | # | means | total mean |\n",
    "|----------|-------------|------|------|\n",
    "|  |  |  |  |\n",
    "| default | 13 | 0.28  0.46  0.48  0.41 | 0.41 |\n",
    "| every  | 5 | 0.30  0.44  0.49  0.28 | 0.38 |\n",
    "| last  | 2 | 0.40  0.55  0.50  0.36 | 0.45 |\n",
    "|  |  |  |  |\n",
    "##### Conclusion: \n",
    "Addition of normalisation in every layer failed to improve default algorithm.\n",
    "Addition of normalisation in last layer improved speed of learning and led to faster convergance thus increasing average means.\n",
    "This addition also destroyed performance of FLDDPG.\n",
    "Further experiments should be conducted before making any changes.\n",
    "Idea abandoned.\n",
    "##### Resulting change: None"
   ]
  },
  {
   "cell_type": "markdown",
   "metadata": {},
   "source": [
    "## Priority experience replay buffer:\n",
    "| method | # | means | total mean |\n",
    "|----------|-------------|------|------|\n",
    "|  |  |  |  |\n",
    "| default | 13 | 0.28  0.48  0.41 | 0.39 |\n",
    "| perb  | 2 | 0.03  0.04  0.20 | 0.09 |\n",
    "|  |  |  |  |\n",
    "##### Conclusion: \n",
    "Addition of PER buffer greately slowed down entire experiment process.\n",
    "Terrible performance of PER buffer is possibly caused by large batches and frequent learning which makes it not usefull.\n",
    "##### Resulting setting: None"
   ]
  },
  {
   "cell_type": "markdown",
   "metadata": {},
   "source": [
    "## $\\rho$ value:\n",
    "| $\\rho$ | # | means | total mean |\n",
    "|----------|-------------|------|------|\n",
    "|  |  |  |  |\n",
    "| 0.01 |  8 | 0.34  0.44  0.34  0.38 | 0.38 |\n",
    "| 0.2  |  4 | 0.34  0.43  0.22  0.38 | 0.34 |\n",
    "| 0.5  |  8 | 0.28  0.48  0.35  0.37 | 0.37 |\n",
    "| 0.8  | 10 | 0.25  0.36  0.32  0.39 | 0.33 |\n",
    "| 0.99 | 13 | 0.28  0.47  0.45  0.42 | 0.41 |\n",
    "|  |  |  |  |\n",
    "\n",
    "##### Conclusion:\n",
    "Proportional update of targets does not improve results.\n",
    "\n",
    "##### Resulting setting: $\\rho~0.99 \\rightarrow 1.0$"
   ]
  },
  {
   "cell_type": "markdown",
   "metadata": {},
   "source": [
    "## From this point success proportions are measured in last 25 episodes."
   ]
  },
  {
   "cell_type": "markdown",
   "metadata": {},
   "source": [
    "## $\\gamma$ value:\n",
    "| $\\gamma$ | # | total mean |\n",
    "|----------|------|------|\n",
    "|  |  |  |\n",
    "| 0.9 |  16 | 0.46 |\n",
    "| 0.99  | 3 | 0.43 |\n",
    "| 0.999  | 2 | 0.41 |\n",
    "|  |  |  |  |\n",
    "\n",
    "##### Conclusion:\n",
    "\n",
    "##### Resulting setting: None"
   ]
  }
 ],
 "metadata": {
  "interpreter": {
   "hash": "31f2aee4e71d21fbe5cf8b01ff0e069b9275f58929596ceb00d14d90e3e16cd6"
  },
  "kernelspec": {
   "display_name": "Python 3.8.10 64-bit",
   "language": "python",
   "name": "python3"
  },
  "language_info": {
   "name": "python",
   "version": "3.8.10"
  },
  "orig_nbformat": 4
 },
 "nbformat": 4,
 "nbformat_minor": 2
}
